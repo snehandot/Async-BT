{
 "cells": [
  {
   "cell_type": "code",
   "execution_count": 1,
   "id": "eaaae6cd-d9fb-4f7a-a604-0887d39a0964",
   "metadata": {},
   "outputs": [],
   "source": [
    "#Multitf strategy code is ideal "
   ]
  },
  {
   "cell_type": "code",
   "execution_count": null,
   "id": "fd84160e-fb3a-45cf-bc77-e7d82a8d9c18",
   "metadata": {},
   "outputs": [],
   "source": [
    "#New class straegy which inheritst with buy sell"
   ]
  },
  {
   "cell_type": "code",
   "execution_count": 2,
   "id": "e758593e-97d9-4490-9155-fcd67aece542",
   "metadata": {},
   "outputs": [
    {
     "ename": "NameError",
     "evalue": "name 'la' is not defined",
     "output_type": "error",
     "traceback": [
      "\u001b[31m---------------------------------------------------------------------------\u001b[39m",
      "\u001b[31mNameError\u001b[39m                                 Traceback (most recent call last)",
      "\u001b[36mCell\u001b[39m\u001b[36m \u001b[39m\u001b[32mIn[2]\u001b[39m\u001b[32m, line 1\u001b[39m\n\u001b[32m----> \u001b[39m\u001b[32m1\u001b[39m \u001b[43mla\u001b[49m\n",
      "\u001b[31mNameError\u001b[39m: name 'la' is not defined"
     ]
    }
   ],
   "source": [
    "la"
   ]
  },
  {
   "cell_type": "code",
   "execution_count": 3,
   "id": "2c0a9497-22df-4663-a382-0afada692b76",
   "metadata": {},
   "outputs": [
    {
     "name": "stdout",
     "output_type": "stream",
     "text": [
      "Untitled.ipynb  exchange.py     executor2.py    plot.py\n",
      "\u001b[34m__pycache__\u001b[m\u001b[m/    executor.py     executor3.py\n"
     ]
    }
   ],
   "source": [
    "ls"
   ]
  },
  {
   "cell_type": "code",
   "execution_count": 4,
   "id": "4a1d3ff4-0398-4104-bb96-9fb4cd9bd8cc",
   "metadata": {},
   "outputs": [
    {
     "name": "stdout",
     "output_type": "stream",
     "text": [
      "/Users/alferix/Documents/Projects/Numatixx/src\n"
     ]
    }
   ],
   "source": [
    "cd .."
   ]
  },
  {
   "cell_type": "code",
   "execution_count": 5,
   "id": "8bee3931-9a4b-44d3-9977-75910676be45",
   "metadata": {},
   "outputs": [
    {
     "name": "stdout",
     "output_type": "stream",
     "text": [
      "\u001b[34mbacktesting\u001b[m\u001b[m/ \u001b[34mstrategy\u001b[m\u001b[m/    \u001b[34mtrading\u001b[m\u001b[m/     \u001b[34mutils\u001b[m\u001b[m/\n"
     ]
    }
   ],
   "source": [
    "ls"
   ]
  },
  {
   "cell_type": "code",
   "execution_count": 6,
   "id": "9404b194-dbd4-4ffa-a7e5-7ea47a966b4f",
   "metadata": {},
   "outputs": [
    {
     "name": "stdout",
     "output_type": "stream",
     "text": [
      "/Users/alferix/Documents/Projects/Numatixx/src/backtesting\n"
     ]
    }
   ],
   "source": [
    "cd backtesting/"
   ]
  },
  {
   "cell_type": "code",
   "execution_count": 7,
   "id": "7f371c2b-b6d9-4bde-98b5-580e12887930",
   "metadata": {},
   "outputs": [
    {
     "name": "stdout",
     "output_type": "stream",
     "text": [
      "analyser.py   backtest.py   backtest3.py\n"
     ]
    }
   ],
   "source": [
    "ls"
   ]
  },
  {
   "cell_type": "code",
   "execution_count": 95,
   "id": "bb725eb1-6d45-4403-9acc-f2961db46362",
   "metadata": {},
   "outputs": [
    {
     "name": "stdout",
     "output_type": "stream",
     "text": [
      "2\n",
      "3\n",
      "4\n",
      "5\n",
      "6\n",
      "7\n",
      "8\n",
      "9\n",
      "10\n",
      "11\n",
      "✓ SELL executed\n",
      "12\n",
      "13\n",
      "14\n",
      "15\n",
      "16\n",
      "17\n",
      "18\n",
      "19\n",
      "20\n",
      "21\n",
      "✓ SELL executed\n",
      "22\n",
      "23\n",
      "24\n",
      "25\n",
      "26\n",
      "27\n",
      "28\n",
      "29\n",
      "30\n",
      "31\n",
      "BTCUSDT 0.001\n",
      "✓ BUY executed\n",
      "32\n",
      "33\n",
      "34\n",
      "35\n",
      "36\n",
      "37\n",
      "38\n",
      "39\n",
      "40\n",
      "41\n",
      "✓ SELL executed\n",
      "42\n",
      "43\n",
      "44\n",
      "45\n",
      "46\n",
      "47\n",
      "48\n",
      "49\n",
      "50\n",
      "                 time action     price   size\n",
      "0 2025-05-07 16:00:00   SELL  96780.75  0.001\n",
      "1 2025-05-07 18:30:00   SELL  96427.63  0.001\n",
      "2 2025-05-07 21:00:00    BUY  96820.81  0.001\n",
      "3 2025-05-07 23:30:00   SELL  97034.55  0.001\n",
      "Figure(1200x600)\n"
     ]
    }
   ],
   "source": [
    "!python3 backtest.py"
   ]
  },
  {
   "cell_type": "code",
   "execution_count": 75,
   "id": "b090e173-ad1b-48bf-aa73-6a09b093f4d5",
   "metadata": {},
   "outputs": [
    {
     "name": "stdout",
     "output_type": "stream",
     "text": [
      "/Users/alferix/Documents/Projects/Numatixx/src/backtesting\n"
     ]
    }
   ],
   "source": [
    "cd /Users/alferix/Documents/Projects/Numatixx/src/backtesting\n"
   ]
  },
  {
   "cell_type": "code",
   "execution_count": 26,
   "id": "19f86417-6f22-499f-a2c9-d0fa676ab50a",
   "metadata": {},
   "outputs": [
    {
     "name": "stdout",
     "output_type": "stream",
     "text": [
      "Requirement already satisfied: tree in /opt/miniconda3/lib/python3.12/site-packages (0.2.4)\n",
      "Requirement already satisfied: Pillow in /opt/miniconda3/lib/python3.12/site-packages (from tree) (11.0.0)\n",
      "Requirement already satisfied: svgwrite in /opt/miniconda3/lib/python3.12/site-packages (from tree) (1.4.3)\n",
      "Requirement already satisfied: setuptools in /opt/miniconda3/lib/python3.12/site-packages (from tree) (73.0.1)\n",
      "Requirement already satisfied: click in /opt/miniconda3/lib/python3.12/site-packages (from tree) (8.1.8)\n",
      "Note: you may need to restart the kernel to use updated packages.\n"
     ]
    }
   ],
   "source": [
    "pip install tree"
   ]
  },
  {
   "cell_type": "code",
   "execution_count": 29,
   "id": "bf4308af-474c-44c5-acca-a1fbf06289aa",
   "metadata": {},
   "outputs": [
    {
     "name": "stdout",
     "output_type": "stream",
     "text": [
      "\u001b[01;34m.\u001b[0m\n",
      "├── \u001b[00manalyser.py\u001b[0m\n",
      "├── \u001b[00mbacktest.py\u001b[0m\n",
      "└── \u001b[00mbacktest3.py\u001b[0m\n",
      "\n",
      "1 directory, 3 files\n"
     ]
    }
   ],
   "source": [
    "!tree"
   ]
  },
  {
   "cell_type": "code",
   "execution_count": 56,
   "id": "f479bdc1-5429-4498-a882-1245326b283e",
   "metadata": {},
   "outputs": [
    {
     "name": "stdout",
     "output_type": "stream",
     "text": [
      "\u001b[34mApplications\u001b[m\u001b[m/ \u001b[34mVolumes\u001b[m\u001b[m/      \u001b[35metc\u001b[m\u001b[m@          \u001b[34msbin\u001b[m\u001b[m/\n",
      "\u001b[34mLibrary\u001b[m\u001b[m/      \u001b[34mbin\u001b[m\u001b[m/          \u001b[35mhome\u001b[m\u001b[m@         \u001b[35mtmp\u001b[m\u001b[m@\n",
      "\u001b[34mSystem\u001b[m\u001b[m/       \u001b[34mcores\u001b[m\u001b[m/        \u001b[34mopt\u001b[m\u001b[m/          \u001b[34musr\u001b[m\u001b[m/\n",
      "\u001b[34mUsers\u001b[m\u001b[m/        \u001b[34mdev\u001b[m\u001b[m/          \u001b[34mprivate\u001b[m\u001b[m/      \u001b[35mvar\u001b[m\u001b[m@\n"
     ]
    }
   ],
   "source": [
    "ls"
   ]
  },
  {
   "cell_type": "code",
   "execution_count": 35,
   "id": "d2efebf6-4732-4edd-a647-7c456aba493d",
   "metadata": {},
   "outputs": [
    {
     "name": "stdout",
     "output_type": "stream",
     "text": [
      "\u001b[01;34m.\u001b[0m\n",
      "├── \u001b[00mMultiTFStrategy.html\u001b[0m\n",
      "├── \u001b[00mUntitled.ipynb\u001b[0m\n",
      "├── \u001b[01;34mconfig\u001b[0m\n",
      "│   ├── \u001b[01;34m__pycache__\u001b[0m\n",
      "│   │   └── \u001b[00mconfig.cpython-312.pyc\u001b[0m\n",
      "│   └── \u001b[00mconfig.py\u001b[0m\n",
      "├── \u001b[01;34mdata\u001b[0m\n",
      "│   ├── \u001b[00m1h.csv\u001b[0m\n",
      "│   ├── \u001b[00mbacktest_trades.csv\u001b[0m\n",
      "│   ├── \u001b[00mdownload.py\u001b[0m\n",
      "│   └── \u001b[00mlive_trades.csv\u001b[0m\n",
      "├── \u001b[00mrequirements.txt\u001b[0m\n",
      "└── \u001b[01;34msrc\u001b[0m\n",
      "    ├── \u001b[01;34mbacktesting\u001b[0m\n",
      "    │   ├── \u001b[00m15m.csv\u001b[0m\n",
      "    │   ├── \u001b[00manalyser.py\u001b[0m\n",
      "    │   ├── \u001b[00mbacktest.py\u001b[0m\n",
      "    │   └── \u001b[00mbacktest3.py\u001b[0m\n",
      "    ├── \u001b[01;34mstrategy\u001b[0m\n",
      "    │   ├── \u001b[01;34m__pycache__\u001b[0m\n",
      "    │   │   ├── \u001b[00mmulti_tf.cpython-312.pyc\u001b[0m\n",
      "    │   │   ├── \u001b[00mrsi.cpython-312.pyc\u001b[0m\n",
      "    │   │   └── \u001b[00mstrategy.cpython-312.pyc\u001b[0m\n",
      "    │   ├── \u001b[00mbase.py\u001b[0m\n",
      "    │   ├── \u001b[00mmulti_tf.py\u001b[0m\n",
      "    │   ├── \u001b[00mrsi.py\u001b[0m\n",
      "    │   └── \u001b[00mstrategy.py\u001b[0m\n",
      "    ├── \u001b[01;34mtrading\u001b[0m\n",
      "    │   ├── \u001b[00mUntitled.ipynb\u001b[0m\n",
      "    │   ├── \u001b[01;34m__pycache__\u001b[0m\n",
      "    │   │   └── \u001b[00mexchange.cpython-312.pyc\u001b[0m\n",
      "    │   ├── \u001b[00mexchange.py\u001b[0m\n",
      "    │   ├── \u001b[00mexecutor.py\u001b[0m\n",
      "    │   ├── \u001b[00mexecutor2.py\u001b[0m\n",
      "    │   ├── \u001b[00mexecutor3.py\u001b[0m\n",
      "    │   └── \u001b[00mplot.py\u001b[0m\n",
      "    └── \u001b[01;34mutils\u001b[0m\n",
      "        ├── \u001b[01;34m__pycache__\u001b[0m\n",
      "        │   ├── \u001b[00mlogger.cpython-312.pyc\u001b[0m\n",
      "        │   └── \u001b[00mplotter.cpython-312.pyc\u001b[0m\n",
      "        ├── \u001b[00mlogger.py\u001b[0m\n",
      "        └── \u001b[00mplotter.py\u001b[0m\n",
      "\n",
      "12 directories, 31 files\n"
     ]
    }
   ],
   "source": [
    "!tree"
   ]
  },
  {
   "cell_type": "code",
   "execution_count": 57,
   "id": "500f7e16-bef8-4857-902f-2a78546a8384",
   "metadata": {},
   "outputs": [
    {
     "name": "stdout",
     "output_type": "stream",
     "text": [
      "/opt/miniconda3/lib/python3.12/site-packages/backtesting\n"
     ]
    }
   ],
   "source": [
    "cd opt/miniconda3/lib/python3.12/site-packages/backtesting/"
   ]
  },
  {
   "cell_type": "code",
   "execution_count": 58,
   "id": "3a8e919e-e9c6-47d2-9ee0-97130dce5950",
   "metadata": {},
   "outputs": [
    {
     "name": "stdout",
     "output_type": "stream",
     "text": [
      "__init__.py      _stats.py        autoscale_cb.js  smbo.py\n",
      "\u001b[34m__pycache__\u001b[m\u001b[m/     _util.py         backtesting.py   \u001b[34mtest\u001b[m\u001b[m/\n",
      "_plotting.py     _version.py      lib.py\n"
     ]
    }
   ],
   "source": [
    "ls"
   ]
  },
  {
   "cell_type": "code",
   "execution_count": 60,
   "id": "5cd6f047-897b-4392-970d-f81317c22d6e",
   "metadata": {},
   "outputs": [
    {
     "name": "stdout",
     "output_type": "stream",
     "text": [
      "\u001b7\u001b[?47h\u001b[1;24r\u001b[1;1H\u001b[J\u001b[7m  UW PICO 5.09                           New Buffer                             \u001b[m\u001b[23;1H\u001b[K\u001b[24;1H\u001b[K\u001b[23;1H\u001b[7m^\u001b[m\u001b[7mG\u001b[m Get Help  \u001b[7m^\u001b[m\u001b[7mO\u001b[m WriteOut  \u001b[7m^\u001b[m\u001b[7mR\u001b[m Read File \u001b[7m^\u001b[m\u001b[7mY\u001b[m Prev Pg   \u001b[7m^\u001b[m\u001b[7mK\u001b[m Cut Text  \u001b[7m^\u001b[m\u001b[7mC\u001b[m Cur Pos   \u001b[K\u001b[24;1H\u001b[7m^\u001b[m\u001b[7mX\u001b[m Exit      \u001b[7m^\u001b[m\u001b[7mJ\u001b[m Justify   \u001b[7m^\u001b[m\u001b[7mW\u001b[m Where is  \u001b[7m^\u001b[m\u001b[7mV\u001b[m Next Pg   \u001b[7m^\u001b[m\u001b[7mU\u001b[m UnCut Text\u001b[7m^\u001b[m\u001b[7mT\u001b[m To Spell  \u001b[K\u001b[3;1H\u001b[22;1H                                                                                \u001b[22;33H\u001b[7m[ Reading file ]\u001b[m\u001b[22;1H                                                                                \u001b[22;31H\u001b[7m[ Read 1745 lines ]\u001b[m\u001b[1;1H\u001b[J\u001b[7m  UW PICO 5.09                      File: backtesting.py                        \u001b[m\u001b[3;1H\"\"\"\u001b[4;1HCore framework data structures.\u001b[5;1HObjects from this module can also be imported from the top-level\u001b[6;1Hmodule directly, e.g.\u001b[8;5Hfrom backtesting import Backtest, Strategy\u001b[9;1H\"\"\"\u001b[11;1Hfrom __future__ import annotations\u001b[13;1Himport sys\u001b[14;1Himport warnings\u001b[15;1Hfrom abc import ABCMeta, abstractmethod\u001b[16;1Hfrom copy import copy\u001b[17;1Hfrom functools import lru_cache, partial\u001b[18;1Hfrom itertools import chain, product, repeat\u001b[19;1Hfrom math import copysign\u001b[20;1Hfrom numbers import Number\u001b[21;1Hfrom typing import Callable, List, Optional, Sequence, Tuple, Type, Union\u001b[23;1H\u001b[K\u001b[24;1H\u001b[K\u001b[23;1H\u001b[7m^\u001b[m\u001b[7mG\u001b[m Get Help  \u001b[7m^\u001b[m\u001b[7mO\u001b[m WriteOut  \u001b[7m^\u001b[m\u001b[7mR\u001b[m Read File \u001b[7m^\u001b[m\u001b[7mY\u001b[m Prev Pg   \u001b[7m^\u001b[m\u001b[7mK\u001b[m Cut Text  \u001b[7m^\u001b[m\u001b[7mC\u001b[m Cur Pos   \u001b[K\u001b[24;1H\u001b[7m^\u001b[m\u001b[7mX\u001b[m Exit      \u001b[7m^\u001b[m\u001b[7mJ\u001b[m Justify   \u001b[7m^\u001b[m\u001b[7mW\u001b[m Where is  \u001b[7m^\u001b[m\u001b[7mV\u001b[m Next Pg   \u001b[7m^\u001b[m\u001b[7mU\u001b[m UnCut Text\u001b[7m^\u001b[m\u001b[7mT\u001b[m To Spell  \u001b[K\u001b[3;1H\u001b[22;1H                                                                                \u001b[22;15H\u001b[7m[ line 1 of 1746 (0%), character 0 of 72907 (0%) ]\u001b[m\u001b[3;1H\u001b[1;33H\u001b[7mFile: backtesting.py                  Modified\u001b[m\u001b[3;5HCore framework data structures. Objects from this module can also be\u001b[4;1Himported from the top-level module directly, e.g.\u001b[5;1H\u001b[K\u001b[6;1H    from backtesting import Backtest, Strategy\u001b[7;1H\"\"\"\u001b[8;5H\u001b[K\u001b[9;1Hfrom __future__ import annotations\u001b[11;1Himport sys\u001b[K\u001b[12;1Himport warnings\u001b[13;1Hfrom abc import ABCMeta, abstractmethod\u001b[14;1Hfrom copy import copy\u001b[15;6Hfunctools import lru_cache, partial\u001b[16;6Hitertools import chain, product, repeat\u001b[17;6Hmath import copysign\u001b[K\u001b[18;6Hnumbers import Number\u001b[K\u001b[19;6Htyping import Callable, List, Optional, Sequence, Tuple, Type, Union\u001b[20;1H\u001b[K\u001b[21;1Himport numpy as np\u001b[K\u001b[23;1H\u001b[K\u001b[24;1H\u001b[K\u001b[22;1H                                                                                \u001b[22;30H\u001b[7m[ Can now UnJustify! ]\u001b[m\u001b[23;1H\u001b[7m^\u001b[m\u001b[7mG\u001b[m Get Help  \u001b[7m^\u001b[m\u001b[7mO\u001b[m WriteOut  \u001b[7m^\u001b[m\u001b[7mR\u001b[m Read File \u001b[7m^\u001b[m\u001b[7mY\u001b[m Prev Pg   \u001b[7m^\u001b[m\u001b[7mK\u001b[m Cut Text  \u001b[7m^\u001b[m\u001b[7mC\u001b[m Cur Pos   \u001b[K\u001b[24;1H\u001b[7m^\u001b[m\u001b[7mX\u001b[m Exit      \u001b[7m^\u001b[m\u001b[7mJ\u001b[m Justify   \u001b[7m^\u001b[m\u001b[7mW\u001b[m Where is  \u001b[7m^\u001b[m\u001b[7mV\u001b[m Next Pg   \u001b[7m^\u001b[m\u001b[7mU\u001b[m UnJustify \u001b[7m^\u001b[m\u001b[7mT\u001b[m To Spell  \u001b[K\u001b[5;1H"
     ]
    }
   ],
   "source": [
    "!nano backtesting.py"
   ]
  },
  {
   "cell_type": "code",
   "execution_count": null,
   "id": "437d75c3-48a6-42b4-ae50-4d6e26a604ec",
   "metadata": {},
   "outputs": [],
   "source": []
  }
 ],
 "metadata": {
  "kernelspec": {
   "display_name": "Python 3 (ipykernel)",
   "language": "python",
   "name": "python3"
  },
  "language_info": {
   "codemirror_mode": {
    "name": "ipython",
    "version": 3
   },
   "file_extension": ".py",
   "mimetype": "text/x-python",
   "name": "python",
   "nbconvert_exporter": "python",
   "pygments_lexer": "ipython3",
   "version": "3.12.3"
  }
 },
 "nbformat": 4,
 "nbformat_minor": 5
}
